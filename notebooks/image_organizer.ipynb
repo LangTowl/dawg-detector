{
 "cells": [
  {
   "cell_type": "code",
   "id": "initial_id",
   "metadata": {
    "collapsed": true,
    "ExecuteTime": {
     "end_time": "2025-02-06T01:01:09.725391Z",
     "start_time": "2025-02-06T01:01:09.717320Z"
    }
   },
   "source": "import os",
   "outputs": [],
   "execution_count": 6
  },
  {
   "metadata": {
    "ExecuteTime": {
     "end_time": "2025-02-06T01:01:10.434610Z",
     "start_time": "2025-02-06T01:01:10.432752Z"
    }
   },
   "cell_type": "code",
   "source": [
    "# Specify paths to directories\n",
    "dog_dir = '../data/train/dogs'\n",
    "cat_dir = '../data/train/cats'\n",
    "original_dir = '../data/unsorted'"
   ],
   "id": "891179eb6595bb05",
   "outputs": [],
   "execution_count": 7
  },
  {
   "metadata": {
    "ExecuteTime": {
     "end_time": "2025-02-06T01:01:11.429704Z",
     "start_time": "2025-02-06T01:01:11.427312Z"
    }
   },
   "cell_type": "code",
   "source": [
    "# Verify all paths exists\n",
    "print(os.path.exists(dog_dir))\n",
    "print(os.path.exists(cat_dir))\n",
    "print(os.path.exists(original_dir))"
   ],
   "id": "7f716a60773f36c1",
   "outputs": [
    {
     "name": "stdout",
     "output_type": "stream",
     "text": [
      "True\n",
      "True\n",
      "True\n"
     ]
    }
   ],
   "execution_count": 8
  },
  {
   "metadata": {
    "ExecuteTime": {
     "end_time": "2025-02-06T01:03:32.000002Z",
     "start_time": "2025-02-06T01:03:28.460466Z"
    }
   },
   "cell_type": "code",
   "source": [
    "# Migrate unsorted files into their respective directory\n",
    "for count, file in enumerate(os.listdir(original_dir)):\n",
    "    # Cat file\n",
    "    if file.startswith('cat'):\n",
    "        # Determine paths\n",
    "        src = os.path.join(original_dir, file)\n",
    "        dst = os.path.join(cat_dir, file)\n",
    "\n",
    "        # Move\n",
    "        os.rename(src, dst)\n",
    "\n",
    "    # Dog file\n",
    "    elif file.startswith('dog'):\n",
    "        # Determine paths\n",
    "        src = os.path.join(original_dir, file)\n",
    "        dst = os.path.join(dog_dir, file)\n",
    "\n",
    "        # Move\n",
    "        os.rename(src, dst)\n",
    "\n",
    "    # Weird other file?\n",
    "    else:\n",
    "        print(\"Unexpected file: \" + file)\n",
    "        continue"
   ],
   "id": "d7e9652d8a5c373a",
   "outputs": [],
   "execution_count": 11
  }
 ],
 "metadata": {
  "kernelspec": {
   "display_name": "Python 3",
   "language": "python",
   "name": "python3"
  },
  "language_info": {
   "codemirror_mode": {
    "name": "ipython",
    "version": 2
   },
   "file_extension": ".py",
   "mimetype": "text/x-python",
   "name": "python",
   "nbconvert_exporter": "python",
   "pygments_lexer": "ipython2",
   "version": "2.7.6"
  }
 },
 "nbformat": 4,
 "nbformat_minor": 5
}
