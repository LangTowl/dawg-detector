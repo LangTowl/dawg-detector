{
 "cells": [
  {
   "cell_type": "code",
   "id": "initial_id",
   "metadata": {
    "collapsed": true,
    "ExecuteTime": {
     "end_time": "2025-02-06T19:33:52.608025Z",
     "start_time": "2025-02-06T19:33:52.606265Z"
    }
   },
   "source": "import os",
   "outputs": [],
   "execution_count": 13
  },
  {
   "metadata": {
    "ExecuteTime": {
     "end_time": "2025-02-06T19:33:52.614203Z",
     "start_time": "2025-02-06T19:33:52.612412Z"
    }
   },
   "cell_type": "code",
   "source": [
    "# Specify paths to directories\n",
    "train_dog_dir = '../data/train/dogs'\n",
    "train_cat_dir = '../data/train/cats'\n",
    "\n",
    "test_dog_dir = '../data/test/dogs'\n",
    "test_cat_dir = '../data/test/cats'\n",
    "\n",
    "original_dir = '../data/unsorted'"
   ],
   "id": "891179eb6595bb05",
   "outputs": [],
   "execution_count": 14
  },
  {
   "metadata": {
    "ExecuteTime": {
     "end_time": "2025-02-06T19:33:52.621421Z",
     "start_time": "2025-02-06T19:33:52.619209Z"
    }
   },
   "cell_type": "code",
   "source": [
    "# Verify all paths exists\n",
    "print(os.path.exists(train_dog_dir))\n",
    "print(os.path.exists(train_cat_dir))\n",
    "print(os.path.exists(test_dog_dir))\n",
    "print(os.path.exists(test_cat_dir))\n",
    "print(os.path.exists(original_dir))"
   ],
   "id": "7f716a60773f36c1",
   "outputs": [
    {
     "name": "stdout",
     "output_type": "stream",
     "text": [
      "True\n",
      "True\n",
      "True\n",
      "True\n",
      "True\n"
     ]
    }
   ],
   "execution_count": 15
  },
  {
   "metadata": {
    "ExecuteTime": {
     "end_time": "2025-02-06T19:33:52.755139Z",
     "start_time": "2025-02-06T19:33:52.696382Z"
    }
   },
   "cell_type": "code",
   "source": [
    "# Determine training / testing split\n",
    "tot_files = len(os.listdir(original_dir))\n",
    "training_samples = tot_files * 0.8\n",
    "testing_samples = tot_files * 0.2"
   ],
   "id": "1c84de887612d8f7",
   "outputs": [],
   "execution_count": 16
  },
  {
   "metadata": {
    "ExecuteTime": {
     "end_time": "2025-02-06T19:33:55.652089Z",
     "start_time": "2025-02-06T19:33:52.759600Z"
    }
   },
   "cell_type": "code",
   "source": [
    "# Migrate unsorted files into their respective directory\n",
    "for count, file in enumerate(os.listdir(original_dir)):\n",
    "    # Cat file\n",
    "    if file.startswith('cat'):\n",
    "        # Determine paths\n",
    "        src = os.path.join(original_dir, file)\n",
    "        dst = os.path.join(train_cat_dir if count <= training_samples else test_cat_dir, file)\n",
    "\n",
    "        # Move\n",
    "        os.rename(src, dst)\n",
    "\n",
    "    # Dog file\n",
    "    elif file.startswith('dog'):\n",
    "        # Determine paths\n",
    "        src = os.path.join(original_dir, file)\n",
    "        dst = os.path.join(train_dog_dir if count <= training_samples else test_dog_dir, file)\n",
    "\n",
    "        # Move\n",
    "        os.rename(src, dst)\n",
    "\n",
    "    # Weird other file?\n",
    "    else:\n",
    "        print(\"Unexpected file: \" + file)\n",
    "        continue"
   ],
   "id": "d7e9652d8a5c373a",
   "outputs": [],
   "execution_count": 17
  }
 ],
 "metadata": {
  "kernelspec": {
   "display_name": "Python 3",
   "language": "python",
   "name": "python3"
  },
  "language_info": {
   "codemirror_mode": {
    "name": "ipython",
    "version": 2
   },
   "file_extension": ".py",
   "mimetype": "text/x-python",
   "name": "python",
   "nbconvert_exporter": "python",
   "pygments_lexer": "ipython2",
   "version": "2.7.6"
  }
 },
 "nbformat": 4,
 "nbformat_minor": 5
}
