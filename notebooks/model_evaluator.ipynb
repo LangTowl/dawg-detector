{
 "cells": [
  {
   "cell_type": "code",
   "id": "initial_id",
   "metadata": {
    "collapsed": true,
    "ExecuteTime": {
     "end_time": "2025-02-07T14:55:21.027558Z",
     "start_time": "2025-02-07T14:55:21.024612Z"
    }
   },
   "source": [
    "import numpy as np\n",
    "from keras import models\n",
    "from PIL import Image"
   ],
   "outputs": [],
   "execution_count": 44
  },
  {
   "metadata": {
    "ExecuteTime": {
     "end_time": "2025-02-07T14:55:21.110653Z",
     "start_time": "2025-02-07T14:55:21.053623Z"
    }
   },
   "cell_type": "code",
   "source": "model = models.load_model('best_model.h5', compile = False)",
   "id": "bbf3e11154e4f575",
   "outputs": [],
   "execution_count": 47
  },
  {
   "metadata": {
    "ExecuteTime": {
     "end_time": "2025-02-07T14:55:21.038090Z",
     "start_time": "2025-02-07T14:55:21.035552Z"
    }
   },
   "cell_type": "code",
   "outputs": [],
   "execution_count": 45,
   "source": [
    "def preprocess_image(path):\n",
    "    image = Image.open(path).resize((32, 32), Image.LANCZOS)\n",
    "    image = np.array(image) / 255.0\n",
    "    image = np.expand_dims(image, axis = 0)\n",
    "    return image"
   ],
   "id": "1dfa73f3f10065e8"
  },
  {
   "metadata": {
    "ExecuteTime": {
     "end_time": "2025-02-07T14:56:15.354856Z",
     "start_time": "2025-02-07T14:56:15.290007Z"
    }
   },
   "cell_type": "code",
   "source": [
    "image = preprocess_image(\"../data/test/dogs/dog.168.jpg\")\n",
    "prediction = model.predict(image)"
   ],
   "id": "a42489bab016d49",
   "outputs": [
    {
     "name": "stdout",
     "output_type": "stream",
     "text": [
      "\u001B[1m1/1\u001B[0m \u001B[32m━━━━━━━━━━━━━━━━━━━━\u001B[0m\u001B[37m\u001B[0m \u001B[1m0s\u001B[0m 37ms/step\n"
     ]
    }
   ],
   "execution_count": 51
  },
  {
   "metadata": {
    "ExecuteTime": {
     "end_time": "2025-02-07T14:56:19.176137Z",
     "start_time": "2025-02-07T14:56:19.173251Z"
    }
   },
   "cell_type": "code",
   "source": "print(\"Class:\", \"Cat\" if prediction[0][0] < 0.5 else \"Dog\")",
   "id": "b184dab6a98ea9e4",
   "outputs": [
    {
     "name": "stdout",
     "output_type": "stream",
     "text": [
      "Class: Cat\n"
     ]
    }
   ],
   "execution_count": 53
  }
 ],
 "metadata": {
  "kernelspec": {
   "display_name": "Python 3",
   "language": "python",
   "name": "python3"
  },
  "language_info": {
   "codemirror_mode": {
    "name": "ipython",
    "version": 2
   },
   "file_extension": ".py",
   "mimetype": "text/x-python",
   "name": "python",
   "nbconvert_exporter": "python",
   "pygments_lexer": "ipython2",
   "version": "2.7.6"
  }
 },
 "nbformat": 4,
 "nbformat_minor": 5
}
