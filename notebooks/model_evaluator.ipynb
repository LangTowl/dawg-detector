{
 "cells": [
  {
   "cell_type": "code",
   "id": "initial_id",
   "metadata": {
    "collapsed": true,
    "ExecuteTime": {
     "end_time": "2025-02-07T14:55:21.027558Z",
     "start_time": "2025-02-07T14:55:21.024612Z"
    }
   },
   "source": [
    "import numpy as np\n",
    "from keras import models\n",
    "from PIL import Image"
   ],
   "outputs": [],
   "execution_count": 44
  },
  {
   "metadata": {
    "ExecuteTime": {
     "end_time": "2025-02-07T14:55:21.110653Z",
     "start_time": "2025-02-07T14:55:21.053623Z"
    }
   },
   "cell_type": "code",
   "source": "model = models.load_model('best_model.h5', compile = False)",
   "id": "bbf3e11154e4f575",
   "outputs": [],
   "execution_count": 47
  },
  {
   "metadata": {
    "ExecuteTime": {
     "end_time": "2025-02-07T14:55:21.038090Z",
     "start_time": "2025-02-07T14:55:21.035552Z"
    }
   },
   "cell_type": "code",
   "outputs": [],
   "execution_count": 45,
   "source": [
    "def preprocess_image(path):\n",
    "    image = Image.open(path).resize((32, 32), Image.LANCZOS)\n",
    "    image = np.array(image) / 255.0\n",
    "    image = np.expand_dims(image, axis = 0)\n",
    "    return image"
   ],
   "id": "1dfa73f3f10065e8"
  },
  {
   "metadata": {
    "ExecuteTime": {
     "end_time": "2025-02-07T15:03:52.693067Z",
     "start_time": "2025-02-07T15:03:52.439453Z"
    }
   },
   "cell_type": "code",
   "source": [
    "src = \"../data/test/dogs/dog.181.jpg\"\n",
    "\n",
    "image = preprocess_image(src)\n",
    "\n",
    "img = Image.open(src)\n",
    "img.show()\n",
    "\n",
    "prediction = model.predict(image)\n",
    "\n",
    "# x < 0.5 = cat, x > 0.5 = dog\n",
    "print(\"Class:\", \"Cat\" if prediction[0][0] < 0.5 else \"Dog\")"
   ],
   "id": "a42489bab016d49",
   "outputs": [
    {
     "name": "stdout",
     "output_type": "stream",
     "text": [
      "\u001B[1m1/1\u001B[0m \u001B[32m━━━━━━━━━━━━━━━━━━━━\u001B[0m\u001B[37m\u001B[0m \u001B[1m0s\u001B[0m 34ms/step\n",
      "Class: Dog\n"
     ]
    }
   ],
   "execution_count": 58
  }
 ],
 "metadata": {
  "kernelspec": {
   "display_name": "Python 3",
   "language": "python",
   "name": "python3"
  },
  "language_info": {
   "codemirror_mode": {
    "name": "ipython",
    "version": 2
   },
   "file_extension": ".py",
   "mimetype": "text/x-python",
   "name": "python",
   "nbconvert_exporter": "python",
   "pygments_lexer": "ipython2",
   "version": "2.7.6"
  }
 },
 "nbformat": 4,
 "nbformat_minor": 5
}
