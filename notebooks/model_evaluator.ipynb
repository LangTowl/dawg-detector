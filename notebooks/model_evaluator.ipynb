{
 "cells": [
  {
   "cell_type": "code",
   "id": "initial_id",
   "metadata": {
    "collapsed": true,
    "ExecuteTime": {
     "end_time": "2025-02-07T15:43:51.883149Z",
     "start_time": "2025-02-07T15:43:51.880735Z"
    }
   },
   "source": [
    "import numpy as np\n",
    "from keras import models\n",
    "from PIL import Image"
   ],
   "outputs": [],
   "execution_count": 63
  },
  {
   "metadata": {
    "ExecuteTime": {
     "end_time": "2025-02-07T15:43:53.223722Z",
     "start_time": "2025-02-07T15:43:53.134737Z"
    }
   },
   "cell_type": "code",
   "source": "model = models.load_model('best_model.h5', compile = False)",
   "id": "bbf3e11154e4f575",
   "outputs": [],
   "execution_count": 64
  },
  {
   "metadata": {
    "ExecuteTime": {
     "end_time": "2025-02-07T15:43:54.579515Z",
     "start_time": "2025-02-07T15:43:54.577159Z"
    }
   },
   "cell_type": "code",
   "source": [
    "def preprocess_image(path, size = (64, 64)):\n",
    "    image = Image.open(path).resize(size, Image.LANCZOS)\n",
    "    image = np.array(image) / 255.0\n",
    "    image = np.expand_dims(image, axis = 0)\n",
    "    return image"
   ],
   "id": "1dfa73f3f10065e8",
   "outputs": [],
   "execution_count": 65
  },
  {
   "metadata": {
    "ExecuteTime": {
     "end_time": "2025-02-07T15:44:15.484117Z",
     "start_time": "2025-02-07T15:44:15.306542Z"
    }
   },
   "cell_type": "code",
   "source": [
    "src = \"../data/test/cats/cat.8.jpg\"\n",
    "\n",
    "image = preprocess_image(src)\n",
    "\n",
    "img = Image.open(src)\n",
    "img.show()\n",
    "\n",
    "prediction = model.predict(image)\n",
    "\n",
    "# x < 0.5 = cat, x > 0.5 = dog\n",
    "print(\"Class:\", \"Cat\" if prediction[0][0] < 0.5 else \"Dog\")"
   ],
   "id": "a42489bab016d49",
   "outputs": [
    {
     "name": "stdout",
     "output_type": "stream",
     "text": [
      "\u001B[1m1/1\u001B[0m \u001B[32m━━━━━━━━━━━━━━━━━━━━\u001B[0m\u001B[37m\u001B[0m \u001B[1m0s\u001B[0m 25ms/step\n",
      "Class: Cat\n"
     ]
    }
   ],
   "execution_count": 67
  }
 ],
 "metadata": {
  "kernelspec": {
   "display_name": "Python 3",
   "language": "python",
   "name": "python3"
  },
  "language_info": {
   "codemirror_mode": {
    "name": "ipython",
    "version": 2
   },
   "file_extension": ".py",
   "mimetype": "text/x-python",
   "name": "python",
   "nbconvert_exporter": "python",
   "pygments_lexer": "ipython2",
   "version": "2.7.6"
  }
 },
 "nbformat": 4,
 "nbformat_minor": 5
}
