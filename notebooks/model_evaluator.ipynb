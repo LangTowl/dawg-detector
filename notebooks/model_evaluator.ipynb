{
 "cells": [
  {
   "cell_type": "code",
   "id": "initial_id",
   "metadata": {
    "collapsed": true,
    "ExecuteTime": {
     "end_time": "2025-02-06T23:18:52.192431Z",
     "start_time": "2025-02-06T23:18:52.188102Z"
    }
   },
   "source": [
    "from keras import models\n",
    "import matplotlib.pyplot as plt\n",
    "from keras.src.legacy.preprocessing.image import ImageDataGenerator"
   ],
   "outputs": [],
   "execution_count": 3
  },
  {
   "metadata": {
    "ExecuteTime": {
     "end_time": "2025-02-06T23:18:53.503687Z",
     "start_time": "2025-02-06T23:18:53.370665Z"
    }
   },
   "cell_type": "code",
   "source": [
    "# Normalize image color values\n",
    "datagen = ImageDataGenerator(rescale = 1.0 / 255.0)\n",
    "\n",
    "test_generator = datagen.flow_from_directory(\n",
    "    '../data/test',\n",
    "    target_size = (32, 32),\n",
    "    batch_size = 32,\n",
    "    class_mode = 'binary',\n",
    "    color_mode = 'rgb',\n",
    "    shuffle = True\n",
    ")"
   ],
   "id": "e30a9f30633993e5",
   "outputs": [
    {
     "name": "stdout",
     "output_type": "stream",
     "text": [
      "Found 4999 images belonging to 2 classes.\n"
     ]
    }
   ],
   "execution_count": 4
  },
  {
   "metadata": {
    "ExecuteTime": {
     "end_time": "2025-02-06T23:18:55.011843Z",
     "start_time": "2025-02-06T23:18:54.869429Z"
    }
   },
   "cell_type": "code",
   "source": "model = models.load_model('best_model.h5')",
   "id": "bbf3e11154e4f575",
   "outputs": [
    {
     "name": "stderr",
     "output_type": "stream",
     "text": [
      "WARNING:absl:Compiled the loaded model, but the compiled metrics have yet to be built. `model.compile_metrics` will be empty until you train or evaluate the model.\n"
     ]
    }
   ],
   "execution_count": 5
  },
  {
   "metadata": {
    "ExecuteTime": {
     "end_time": "2025-02-06T23:21:24.679779Z",
     "start_time": "2025-02-06T23:21:21.198681Z"
    }
   },
   "cell_type": "code",
   "source": [
    "# Evaluating the model on the test set\n",
    "test_loss, test_accuracy = model.evaluate(test_generator, verbose=2)\n",
    "\n",
    "print(f\"Test loss: {test_loss}\")\n",
    "print(f\"Test accuracy: {test_accuracy}\")"
   ],
   "id": "f32243d1228ca505",
   "outputs": [
    {
     "name": "stdout",
     "output_type": "stream",
     "text": [
      "157/157 - 3s - 22ms/step - accuracy: 0.8058 - loss: 0.4219\n",
      "Test loss: 0.42185044288635254\n",
      "Test accuracy: 0.8057611584663391\n"
     ]
    }
   ],
   "execution_count": 8
  }
 ],
 "metadata": {
  "kernelspec": {
   "display_name": "Python 3",
   "language": "python",
   "name": "python3"
  },
  "language_info": {
   "codemirror_mode": {
    "name": "ipython",
    "version": 2
   },
   "file_extension": ".py",
   "mimetype": "text/x-python",
   "name": "python",
   "nbconvert_exporter": "python",
   "pygments_lexer": "ipython2",
   "version": "2.7.6"
  }
 },
 "nbformat": 4,
 "nbformat_minor": 5
}
