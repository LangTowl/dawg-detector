{
 "cells": [
  {
   "cell_type": "code",
   "id": "initial_id",
   "metadata": {
    "collapsed": true,
    "ExecuteTime": {
     "end_time": "2025-02-06T00:36:46.104229Z",
     "start_time": "2025-02-06T00:36:46.101930Z"
    }
   },
   "source": "import os",
   "outputs": [],
   "execution_count": 9
  },
  {
   "metadata": {
    "ExecuteTime": {
     "end_time": "2025-02-06T00:40:26.024208Z",
     "start_time": "2025-02-06T00:40:26.018404Z"
    }
   },
   "cell_type": "code",
   "source": [
    "# Verify path validity\n",
    "print('Path Exists' if os.path.exists('../.kaggle/kaggle.json') else 'Path Does Not Exist')"
   ],
   "id": "cced563f4f03a58d",
   "outputs": [
    {
     "name": "stdout",
     "output_type": "stream",
     "text": [
      "Path Exists\n"
     ]
    }
   ],
   "execution_count": 14
  },
  {
   "metadata": {
    "ExecuteTime": {
     "end_time": "2025-02-06T00:43:03.178962Z",
     "start_time": "2025-02-06T00:43:03.175954Z"
    }
   },
   "cell_type": "code",
   "source": [
    "# Specify path to Kaggle API token\n",
    "os.environ['KAGGLE_CONFIG_DIR'] = '../.kaggle'"
   ],
   "id": "8f54471049b9ef7d",
   "outputs": [],
   "execution_count": 19
  },
  {
   "metadata": {
    "ExecuteTime": {
     "end_time": "2025-02-06T00:44:13.592451Z",
     "start_time": "2025-02-06T00:44:13.459769Z"
    }
   },
   "cell_type": "code",
   "source": [
    "# Set file permissions\n",
    "!chmod 600 ../.kaggle/kaggle.json"
   ],
   "id": "21bc1c421da05494",
   "outputs": [],
   "execution_count": 22
  },
  {
   "metadata": {
    "ExecuteTime": {
     "end_time": "2025-02-06T00:47:51.500807Z",
     "start_time": "2025-02-06T00:47:21.774501Z"
    }
   },
   "cell_type": "code",
   "source": [
    "# Set file permissions\n",
    "!kaggle competitions download -c dogs-vs-cats"
   ],
   "id": "4737e8b54ebfd008",
   "outputs": [
    {
     "name": "stdout",
     "output_type": "stream",
     "text": [
      "Downloading dogs-vs-cats.zip to /Users/langtowl/Desktop/dawg-detector/notebooks\r\n",
      "100%|███████████████████████████████████████▉| 811M/812M [00:28<00:00, 41.4MB/s]\r\n",
      "100%|████████████████████████████████████████| 812M/812M [00:28<00:00, 30.2MB/s]\r\n"
     ]
    }
   ],
   "execution_count": 24
  }
 ],
 "metadata": {
  "kernelspec": {
   "display_name": "Python 3",
   "language": "python",
   "name": "python3"
  },
  "language_info": {
   "codemirror_mode": {
    "name": "ipython",
    "version": 2
   },
   "file_extension": ".py",
   "mimetype": "text/x-python",
   "name": "python",
   "nbconvert_exporter": "python",
   "pygments_lexer": "ipython2",
   "version": "2.7.6"
  }
 },
 "nbformat": 4,
 "nbformat_minor": 5
}
