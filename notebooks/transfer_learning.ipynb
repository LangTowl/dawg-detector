{
 "cells": [
  {
   "cell_type": "code",
   "id": "initial_id",
   "metadata": {
    "collapsed": true,
    "ExecuteTime": {
     "end_time": "2025-02-12T00:23:09.460252Z",
     "start_time": "2025-02-12T00:23:09.457733Z"
    }
   },
   "source": [
    "import os\n",
    "import keras\n",
    "import seaborn as sns\n",
    "import tensorflow as tf\n",
    "from keras import layers, applications, models\n",
    "from keras import callbacks\n",
    "import matplotlib.pyplot as plt\n",
    "from sklearn.metrics import confusion_matrix, classification_report\n",
    "from keras.src.legacy.preprocessing.image import ImageDataGenerator"
   ],
   "outputs": [],
   "execution_count": 4
  },
  {
   "metadata": {
    "ExecuteTime": {
     "end_time": "2025-02-12T00:22:30.413051Z",
     "start_time": "2025-02-12T00:22:30.410563Z"
    }
   },
   "cell_type": "code",
   "source": [
    "# Specify GPU usage\n",
    "physical_devices = tf.config.list_physical_devices('GPU')\n",
    "print(physical_devices)"
   ],
   "id": "ac23c2737274a1e5",
   "outputs": [
    {
     "name": "stdout",
     "output_type": "stream",
     "text": [
      "[PhysicalDevice(name='/physical_device:GPU:0', device_type='GPU')]\n"
     ]
    }
   ],
   "execution_count": 2
  },
  {
   "metadata": {
    "ExecuteTime": {
     "end_time": "2025-02-12T00:22:46.432714Z",
     "start_time": "2025-02-12T00:22:46.028492Z"
    }
   },
   "cell_type": "code",
   "source": [
    "size = (64, 64)\n",
    "\n",
    "# Normalize image color values\n",
    "datagen = ImageDataGenerator(\n",
    "    rescale = 1.0 / 255.0,\n",
    "    rotation_range = 20,       # Rotate images up to 20 degrees\n",
    "    width_shift_range = 0.2,   # Shift width by 20%\n",
    "    height_shift_range = 0.2,  # Shift height by 20%\n",
    "    shear_range = 0.2,         # Shear distortion\n",
    "    zoom_range = 0.2,          # Zoom into images\n",
    "    horizontal_flip = True,    # Flip images horizontally\n",
    "    fill_mode = \"nearest\"      # Fill missing pixels with nearest values\n",
    ")\n",
    "\n",
    "# Specify path, target shape, batch size, classifier output, color mode, and shuffle\n",
    "train_generator = datagen.flow_from_directory(\n",
    "    '../data/train',\n",
    "    target_size = size,\n",
    "    batch_size = 32,\n",
    "    class_mode ='binary',\n",
    "    color_mode = 'rgb',\n",
    "    shuffle=True\n",
    ")\n",
    "\n",
    "test_datagen = ImageDataGenerator(rescale=1.0 / 255.0)\n",
    "\n",
    "test_generator = test_datagen.flow_from_directory(\n",
    "    '../data/test',\n",
    "    target_size = size,\n",
    "    batch_size = 32,\n",
    "    class_mode = 'binary',\n",
    "    color_mode = 'rgb',\n",
    "    shuffle = False\n",
    ")"
   ],
   "id": "cc38270676029dba",
   "outputs": [
    {
     "name": "stdout",
     "output_type": "stream",
     "text": [
      "Found 20001 images belonging to 2 classes.\n",
      "Found 4999 images belonging to 2 classes.\n"
     ]
    }
   ],
   "execution_count": 3
  },
  {
   "metadata": {
    "ExecuteTime": {
     "end_time": "2025-02-12T00:23:20.914198Z",
     "start_time": "2025-02-12T00:23:18.839953Z"
    }
   },
   "cell_type": "code",
   "source": [
    "# Load trained model\n",
    "base_model = applications.VGG16(\n",
    "    weights=\"imagenet\",\n",
    "    include_top=False,\n",
    "    input_shape=(64, 64, 3)\n",
    ")"
   ],
   "id": "783ab05f63d7b3a3",
   "outputs": [
    {
     "name": "stderr",
     "output_type": "stream",
     "text": [
      "2025-02-11 19:23:18.852783: I metal_plugin/src/device/metal_device.cc:1154] Metal device set to: Apple M1 Pro\n",
      "2025-02-11 19:23:18.852973: I metal_plugin/src/device/metal_device.cc:296] systemMemory: 16.00 GB\n",
      "2025-02-11 19:23:18.852983: I metal_plugin/src/device/metal_device.cc:313] maxCacheSize: 5.33 GB\n",
      "WARNING: All log messages before absl::InitializeLog() is called are written to STDERR\n",
      "I0000 00:00:1739319798.853615 2212360 pluggable_device_factory.cc:305] Could not identify NUMA node of platform GPU ID 0, defaulting to 0. Your kernel may not have been built with NUMA support.\n",
      "I0000 00:00:1739319798.853702 2212360 pluggable_device_factory.cc:271] Created TensorFlow device (/job:localhost/replica:0/task:0/device:GPU:0 with 0 MB memory) -> physical PluggableDevice (device: 0, name: METAL, pci bus id: <undefined>)\n"
     ]
    },
    {
     "name": "stdout",
     "output_type": "stream",
     "text": [
      "Downloading data from https://storage.googleapis.com/tensorflow/keras-applications/vgg16/vgg16_weights_tf_dim_ordering_tf_kernels_notop.h5\n",
      "\u001B[1m58889256/58889256\u001B[0m \u001B[32m━━━━━━━━━━━━━━━━━━━━\u001B[0m\u001B[37m\u001B[0m \u001B[1m1s\u001B[0m 0us/step\n"
     ]
    }
   ],
   "execution_count": 5
  },
  {
   "metadata": {
    "ExecuteTime": {
     "end_time": "2025-02-12T00:23:55.068793Z",
     "start_time": "2025-02-12T00:23:55.066604Z"
    }
   },
   "cell_type": "code",
   "source": [
    "# Freeze layers\n",
    "base_model.trainable = False"
   ],
   "id": "68e4043c1eab511a",
   "outputs": [],
   "execution_count": 6
  },
  {
   "metadata": {
    "ExecuteTime": {
     "end_time": "2025-02-12T00:24:23.089132Z",
     "start_time": "2025-02-12T00:24:23.038220Z"
    }
   },
   "cell_type": "code",
   "source": [
    "# Setup pre-trained feature extractor\n",
    "model = keras.Sequential([\n",
    "    base_model,\n",
    "    layers.Flatten(),\n",
    "    layers.Dense(128, activation = \"relu\"),\n",
    "    layers.Dropout(0.5),  # Regularization\n",
    "    layers.Dense(1, activation = \"sigmoid\")  # Binary classification\n",
    "])"
   ],
   "id": "f064d339e9acbda8",
   "outputs": [],
   "execution_count": 7
  },
  {
   "metadata": {
    "ExecuteTime": {
     "end_time": "2025-02-12T00:26:22.904498Z",
     "start_time": "2025-02-12T00:26:22.887947Z"
    }
   },
   "cell_type": "code",
   "source": [
    "########### CODE PROVIDED BY PROFESSOR ###########\n",
    "model.compile(\n",
    "    optimizer=keras.optimizers.Adam(learning_rate = 0.001),\n",
    "    loss=\"binary_crossentropy\",\n",
    "    metrics=[\"accuracy\"]\n",
    ")"
   ],
   "id": "3fb6a0e01f1e6730",
   "outputs": [],
   "execution_count": 8
  },
  {
   "metadata": {
    "ExecuteTime": {
     "end_time": "2025-02-12T00:26:24.437694Z",
     "start_time": "2025-02-12T00:26:24.435355Z"
    }
   },
   "cell_type": "code",
   "source": [
    "# Setup callbacks\n",
    "early_stopping = callbacks.EarlyStopping(monitor = \"val_loss\", patience = 5, restore_best_weights = True)\n",
    "model_checkpoint = callbacks.ModelCheckpoint('best_model.h5', monitor = 'val_loss', save_best_only = True)"
   ],
   "id": "9ae5bc7924904fc4",
   "outputs": [],
   "execution_count": 9
  },
  {
   "metadata": {
    "ExecuteTime": {
     "end_time": "2025-02-12T00:46:07.833365Z",
     "start_time": "2025-02-12T00:26:33.655797Z"
    }
   },
   "cell_type": "code",
   "source": [
    "history = model.fit(\n",
    "    train_generator,\n",
    "    epochs = 30,\n",
    "    callbacks = [early_stopping , model_checkpoint],\n",
    "    validation_data = test_generator,\n",
    "    verbose = 2\n",
    ")"
   ],
   "id": "9d80c29bf0adf642",
   "outputs": [
    {
     "name": "stdout",
     "output_type": "stream",
     "text": [
      "Epoch 1/30\n"
     ]
    },
    {
     "name": "stderr",
     "output_type": "stream",
     "text": [
      "/Users/langtowl/miniconda3/lib/python3.12/site-packages/keras/src/trainers/data_adapters/py_dataset_adapter.py:121: UserWarning: Your `PyDataset` class should call `super().__init__(**kwargs)` in its constructor. `**kwargs` can include `workers`, `use_multiprocessing`, `max_queue_size`. Do not pass these arguments to `fit()`, as they will be ignored.\n",
      "  self._warn_if_super_not_called()\n",
      "2025-02-11 19:26:34.073715: I tensorflow/core/grappler/optimizers/custom_graph_optimizer_registry.cc:117] Plugin optimizer for device_type GPU is enabled.\n",
      "WARNING:absl:You are saving your model as an HDF5 file via `model.save()` or `keras.saving.save_model(model)`. This file format is considered legacy. We recommend using instead the native Keras format, e.g. `model.save('my_model.keras')` or `keras.saving.save_model(model, 'my_model.keras')`. \n"
     ]
    },
    {
     "name": "stdout",
     "output_type": "stream",
     "text": [
      "626/626 - 45s - 72ms/step - accuracy: 0.6826 - loss: 0.7009 - val_accuracy: 0.7754 - val_loss: 0.4757\n",
      "Epoch 2/30\n"
     ]
    },
    {
     "name": "stderr",
     "output_type": "stream",
     "text": [
      "WARNING:absl:You are saving your model as an HDF5 file via `model.save()` or `keras.saving.save_model(model)`. This file format is considered legacy. We recommend using instead the native Keras format, e.g. `model.save('my_model.keras')` or `keras.saving.save_model(model, 'my_model.keras')`. \n"
     ]
    },
    {
     "name": "stdout",
     "output_type": "stream",
     "text": [
      "626/626 - 40s - 64ms/step - accuracy: 0.7362 - loss: 0.5263 - val_accuracy: 0.7880 - val_loss: 0.4524\n",
      "Epoch 3/30\n"
     ]
    },
    {
     "name": "stderr",
     "output_type": "stream",
     "text": [
      "WARNING:absl:You are saving your model as an HDF5 file via `model.save()` or `keras.saving.save_model(model)`. This file format is considered legacy. We recommend using instead the native Keras format, e.g. `model.save('my_model.keras')` or `keras.saving.save_model(model, 'my_model.keras')`. \n"
     ]
    },
    {
     "name": "stdout",
     "output_type": "stream",
     "text": [
      "626/626 - 41s - 65ms/step - accuracy: 0.7539 - loss: 0.5043 - val_accuracy: 0.7970 - val_loss: 0.4400\n",
      "Epoch 4/30\n"
     ]
    },
    {
     "name": "stderr",
     "output_type": "stream",
     "text": [
      "WARNING:absl:You are saving your model as an HDF5 file via `model.save()` or `keras.saving.save_model(model)`. This file format is considered legacy. We recommend using instead the native Keras format, e.g. `model.save('my_model.keras')` or `keras.saving.save_model(model, 'my_model.keras')`. \n"
     ]
    },
    {
     "name": "stdout",
     "output_type": "stream",
     "text": [
      "626/626 - 40s - 64ms/step - accuracy: 0.7572 - loss: 0.4936 - val_accuracy: 0.7978 - val_loss: 0.4343\n",
      "Epoch 5/30\n"
     ]
    },
    {
     "name": "stderr",
     "output_type": "stream",
     "text": [
      "WARNING:absl:You are saving your model as an HDF5 file via `model.save()` or `keras.saving.save_model(model)`. This file format is considered legacy. We recommend using instead the native Keras format, e.g. `model.save('my_model.keras')` or `keras.saving.save_model(model, 'my_model.keras')`. \n"
     ]
    },
    {
     "name": "stdout",
     "output_type": "stream",
     "text": [
      "626/626 - 41s - 65ms/step - accuracy: 0.7586 - loss: 0.4936 - val_accuracy: 0.7994 - val_loss: 0.4265\n",
      "Epoch 6/30\n",
      "626/626 - 41s - 65ms/step - accuracy: 0.7606 - loss: 0.4919 - val_accuracy: 0.7948 - val_loss: 0.4381\n",
      "Epoch 7/30\n"
     ]
    },
    {
     "name": "stderr",
     "output_type": "stream",
     "text": [
      "WARNING:absl:You are saving your model as an HDF5 file via `model.save()` or `keras.saving.save_model(model)`. This file format is considered legacy. We recommend using instead the native Keras format, e.g. `model.save('my_model.keras')` or `keras.saving.save_model(model, 'my_model.keras')`. \n"
     ]
    },
    {
     "name": "stdout",
     "output_type": "stream",
     "text": [
      "626/626 - 41s - 65ms/step - accuracy: 0.7615 - loss: 0.4906 - val_accuracy: 0.8008 - val_loss: 0.4205\n",
      "Epoch 8/30\n",
      "626/626 - 40s - 64ms/step - accuracy: 0.7657 - loss: 0.4865 - val_accuracy: 0.7946 - val_loss: 0.4362\n",
      "Epoch 9/30\n"
     ]
    },
    {
     "name": "stderr",
     "output_type": "stream",
     "text": [
      "WARNING:absl:You are saving your model as an HDF5 file via `model.save()` or `keras.saving.save_model(model)`. This file format is considered legacy. We recommend using instead the native Keras format, e.g. `model.save('my_model.keras')` or `keras.saving.save_model(model, 'my_model.keras')`. \n"
     ]
    },
    {
     "name": "stdout",
     "output_type": "stream",
     "text": [
      "626/626 - 41s - 65ms/step - accuracy: 0.7654 - loss: 0.4872 - val_accuracy: 0.8070 - val_loss: 0.4163\n",
      "Epoch 10/30\n",
      "626/626 - 40s - 64ms/step - accuracy: 0.7656 - loss: 0.4810 - val_accuracy: 0.8084 - val_loss: 0.4186\n",
      "Epoch 11/30\n",
      "626/626 - 41s - 65ms/step - accuracy: 0.7644 - loss: 0.4853 - val_accuracy: 0.8078 - val_loss: 0.4208\n",
      "Epoch 12/30\n",
      "626/626 - 41s - 65ms/step - accuracy: 0.7659 - loss: 0.4855 - val_accuracy: 0.8062 - val_loss: 0.4176\n",
      "Epoch 13/30\n",
      "626/626 - 41s - 65ms/step - accuracy: 0.7640 - loss: 0.4870 - val_accuracy: 0.8040 - val_loss: 0.4196\n",
      "Epoch 14/30\n"
     ]
    },
    {
     "name": "stderr",
     "output_type": "stream",
     "text": [
      "WARNING:absl:You are saving your model as an HDF5 file via `model.save()` or `keras.saving.save_model(model)`. This file format is considered legacy. We recommend using instead the native Keras format, e.g. `model.save('my_model.keras')` or `keras.saving.save_model(model, 'my_model.keras')`. \n"
     ]
    },
    {
     "name": "stdout",
     "output_type": "stream",
     "text": [
      "626/626 - 41s - 66ms/step - accuracy: 0.7696 - loss: 0.4830 - val_accuracy: 0.8128 - val_loss: 0.4137\n",
      "Epoch 15/30\n",
      "626/626 - 41s - 65ms/step - accuracy: 0.7614 - loss: 0.4907 - val_accuracy: 0.8018 - val_loss: 0.4342\n",
      "Epoch 16/30\n",
      "626/626 - 41s - 65ms/step - accuracy: 0.7686 - loss: 0.4813 - val_accuracy: 0.8078 - val_loss: 0.4163\n",
      "Epoch 17/30\n",
      "626/626 - 41s - 65ms/step - accuracy: 0.7684 - loss: 0.4799 - val_accuracy: 0.8024 - val_loss: 0.4330\n",
      "Epoch 18/30\n",
      "626/626 - 40s - 64ms/step - accuracy: 0.7694 - loss: 0.4780 - val_accuracy: 0.7978 - val_loss: 0.4338\n",
      "Epoch 19/30\n"
     ]
    },
    {
     "name": "stderr",
     "output_type": "stream",
     "text": [
      "WARNING:absl:You are saving your model as an HDF5 file via `model.save()` or `keras.saving.save_model(model)`. This file format is considered legacy. We recommend using instead the native Keras format, e.g. `model.save('my_model.keras')` or `keras.saving.save_model(model, 'my_model.keras')`. \n"
     ]
    },
    {
     "name": "stdout",
     "output_type": "stream",
     "text": [
      "626/626 - 40s - 64ms/step - accuracy: 0.7602 - loss: 0.4891 - val_accuracy: 0.8114 - val_loss: 0.4119\n",
      "Epoch 20/30\n",
      "626/626 - 41s - 66ms/step - accuracy: 0.7730 - loss: 0.4787 - val_accuracy: 0.7972 - val_loss: 0.4328\n",
      "Epoch 21/30\n",
      "626/626 - 40s - 65ms/step - accuracy: 0.7676 - loss: 0.4784 - val_accuracy: 0.8090 - val_loss: 0.4177\n",
      "Epoch 22/30\n"
     ]
    },
    {
     "name": "stderr",
     "output_type": "stream",
     "text": [
      "WARNING:absl:You are saving your model as an HDF5 file via `model.save()` or `keras.saving.save_model(model)`. This file format is considered legacy. We recommend using instead the native Keras format, e.g. `model.save('my_model.keras')` or `keras.saving.save_model(model, 'my_model.keras')`. \n"
     ]
    },
    {
     "name": "stdout",
     "output_type": "stream",
     "text": [
      "626/626 - 41s - 65ms/step - accuracy: 0.7666 - loss: 0.4795 - val_accuracy: 0.8074 - val_loss: 0.4106\n",
      "Epoch 23/30\n",
      "626/626 - 41s - 65ms/step - accuracy: 0.7663 - loss: 0.4855 - val_accuracy: 0.8080 - val_loss: 0.4192\n",
      "Epoch 24/30\n"
     ]
    },
    {
     "name": "stderr",
     "output_type": "stream",
     "text": [
      "WARNING:absl:You are saving your model as an HDF5 file via `model.save()` or `keras.saving.save_model(model)`. This file format is considered legacy. We recommend using instead the native Keras format, e.g. `model.save('my_model.keras')` or `keras.saving.save_model(model, 'my_model.keras')`. \n"
     ]
    },
    {
     "name": "stdout",
     "output_type": "stream",
     "text": [
      "626/626 - 40s - 64ms/step - accuracy: 0.7704 - loss: 0.4814 - val_accuracy: 0.8128 - val_loss: 0.4043\n",
      "Epoch 25/30\n",
      "626/626 - 40s - 63ms/step - accuracy: 0.7665 - loss: 0.4892 - val_accuracy: 0.8080 - val_loss: 0.4138\n",
      "Epoch 26/30\n",
      "626/626 - 39s - 63ms/step - accuracy: 0.7697 - loss: 0.4825 - val_accuracy: 0.8010 - val_loss: 0.4325\n",
      "Epoch 27/30\n",
      "626/626 - 39s - 62ms/step - accuracy: 0.7683 - loss: 0.4805 - val_accuracy: 0.8116 - val_loss: 0.4067\n",
      "Epoch 28/30\n",
      "626/626 - 39s - 63ms/step - accuracy: 0.7620 - loss: 0.4890 - val_accuracy: 0.7884 - val_loss: 0.4541\n",
      "Epoch 29/30\n",
      "626/626 - 38s - 61ms/step - accuracy: 0.7648 - loss: 0.4852 - val_accuracy: 0.8102 - val_loss: 0.4107\n"
     ]
    }
   ],
   "execution_count": 10
  },
  {
   "metadata": {
    "ExecuteTime": {
     "end_time": "2025-02-12T00:47:49.489402Z",
     "start_time": "2025-02-12T00:47:43.014657Z"
    }
   },
   "cell_type": "code",
   "source": [
    "# Evaluating the model on the test set\n",
    "test_loss, test_accuracy = model.evaluate(test_generator, verbose=2)\n",
    "\n",
    "print(f\"Test loss: {test_loss}\")\n",
    "print(f\"Test accuracy: {test_accuracy}\")"
   ],
   "id": "25f2aebff002b17e",
   "outputs": [
    {
     "name": "stdout",
     "output_type": "stream",
     "text": [
      "157/157 - 6s - 41ms/step - accuracy: 0.8128 - loss: 0.4043\n",
      "Test loss: 0.40427228808403015\n",
      "Test accuracy: 0.8127625584602356\n"
     ]
    }
   ],
   "execution_count": 11
  },
  {
   "metadata": {
    "ExecuteTime": {
     "end_time": "2025-02-12T00:48:01.000051Z",
     "start_time": "2025-02-12T00:48:00.758585Z"
    }
   },
   "cell_type": "code",
   "source": [
    "# Plot training vs validation accuracy\n",
    "plt.figure(figsize = (8, 5))\n",
    "plt.plot(history.history['accuracy'], label = 'Training Accuracy', marker = 'o')\n",
    "plt.plot(history.history['val_accuracy'], label = 'Validation Accuracy', marker = 'o')\n",
    "plt.xlabel(\"Epochs\")\n",
    "plt.ylabel(\"Accuracy\")\n",
    "plt.title(\"Training vs. Validation Accuracy\")\n",
    "plt.legend()\n",
    "plt.grid()\n",
    "plt.show()"
   ],
   "id": "8a704c6e7c5ba518",
   "outputs": [
    {
     "data": {
      "text/plain": [
       "<Figure size 800x500 with 1 Axes>"
      ],
      "image/png": "[encoded data removed]"
     },
     "metadata": {},
     "output_type": "display_data"
    }
   ],
   "execution_count": 12
  },
  {
   "metadata": {
    "ExecuteTime": {
     "end_time": "2025-02-12T00:48:54.885969Z",
     "start_time": "2025-02-12T00:48:54.883906Z"
    }
   },
   "cell_type": "code",
   "source": [
    "# Get true labels\n",
    "true_labels = test_generator.classes"
   ],
   "id": "1d910c7b5ff0d277",
   "outputs": [],
   "execution_count": 17
  },
  {
   "metadata": {
    "ExecuteTime": {
     "end_time": "2025-02-12T00:48:25.011609Z",
     "start_time": "2025-02-12T00:48:18.236036Z"
    }
   },
   "cell_type": "code",
   "source": [
    "# Get predictions\n",
    "pred_probs = model.predict(test_generator)\n",
    "pred_labels = (pred_probs > 0.5).astype(int).flatten()"
   ],
   "id": "bd8d369545566a31",
   "outputs": [
    {
     "name": "stdout",
     "output_type": "stream",
     "text": [
      "\u001B[1m157/157\u001B[0m \u001B[32m━━━━━━━━━━━━━━━━━━━━\u001B[0m\u001B[37m\u001B[0m \u001B[1m7s\u001B[0m 41ms/step\n"
     ]
    }
   ],
   "execution_count": 13
  },
  {
   "metadata": {
    "ExecuteTime": {
     "end_time": "2025-02-12T00:48:56.950944Z",
     "start_time": "2025-02-12T00:48:56.946614Z"
    }
   },
   "cell_type": "code",
   "source": [
    "# Compute confusion matrix\n",
    "cm = confusion_matrix(true_labels, pred_labels)"
   ],
   "id": "fa851e246b8272a0",
   "outputs": [],
   "execution_count": 18
  },
  {
   "metadata": {
    "ExecuteTime": {
     "end_time": "2025-02-12T00:48:59.343073Z",
     "start_time": "2025-02-12T00:48:59.265701Z"
    }
   },
   "cell_type": "code",
   "source": [
    "# Display confusion matrix\n",
    "plt.figure(figsize = (5, 4))\n",
    "sns.heatmap(cm, annot = True, fmt = \"d\", cmap = \"Blues\", xticklabels = [\"Cat\", \"Dog\"], yticklabels = [\"Cat\", \"Dog\"])\n",
    "plt.xlabel(\"Predicted\")\n",
    "plt.ylabel(\"Actual\")\n",
    "plt.title(\"Confusion Matrix\")\n",
    "plt.show()\n",
    "\n",
    "print(classification_report(true_labels, pred_labels, target_names = [\"Cat\", \"Dog\"]))"
   ],
   "id": "f8f39e5d36a511b3",
   "outputs": [
    {
     "data": {
      "text/plain": [
       "<Figure size 500x400 with 2 Axes>"
      ],
      "image/png": "[encoded data removed]"
     },
     "metadata": {},
     "output_type": "display_data"
    },
    {
     "name": "stdout",
     "output_type": "stream",
     "text": [
      "              precision    recall  f1-score   support\n",
      "\n",
      "         Cat       0.80      0.83      0.82      2516\n",
      "         Dog       0.82      0.79      0.81      2483\n",
      "\n",
      "    accuracy                           0.81      4999\n",
      "   macro avg       0.81      0.81      0.81      4999\n",
      "weighted avg       0.81      0.81      0.81      4999\n",
      "\n"
     ]
    }
   ],
   "execution_count": 19
  }
 ],
 "metadata": {
  "kernelspec": {
   "display_name": "Python 3",
   "language": "python",
   "name": "python3"
  },
  "language_info": {
   "codemirror_mode": {
    "name": "ipython",
    "version": 2
   },
   "file_extension": ".py",
   "mimetype": "text/x-python",
   "name": "python",
   "nbconvert_exporter": "python",
   "pygments_lexer": "ipython2",
   "version": "2.7.6"
  }
 },
 "nbformat": 4,
 "nbformat_minor": 5
}
